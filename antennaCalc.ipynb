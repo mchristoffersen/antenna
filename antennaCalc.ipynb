{
 "cells": [
  {
   "cell_type": "markdown",
   "id": "71e82051-e18c-42e5-8bff-6344e91c0439",
   "metadata": {},
   "source": [
    "# Resistively Loaded Antenna Calculator\n",
    "\n",
    "This notebook will calculate the required resistor values to create a resistively loaded antenna element in the method of [1]. The user must specify the element length, $R_0$, and where resistors should be located along the element, as well as a list of resistor values available. This notebook will calculate the ideal resistor value for each user-specified location and then match it to the closest available resistor value.  A parts list and a diagram of the antenna are generated at the end of the notebook."
   ]
  },
  {
   "cell_type": "code",
   "execution_count": 245,
   "id": "d066d69d-58a0-4e15-9812-5796655ea10e",
   "metadata": {},
   "outputs": [],
   "source": [
    "import matplotlib.pyplot as plt\n",
    "import numpy as np"
   ]
  },
  {
   "cell_type": "markdown",
   "id": "7aca8c3b-edfa-4d0e-a78b-6b48f3c605b2",
   "metadata": {},
   "source": [
    "## Antenna length, $R_0$, and resistor locations along element"
   ]
  },
  {
   "cell_type": "code",
   "execution_count": 253,
   "id": "09f00d45-9cc2-4e9a-856f-80e9d83f47a2",
   "metadata": {},
   "outputs": [],
   "source": [
    "h = 50  # Antenna length (m)\n",
    "\n",
    "R0 = 300  # Balance between impulse response and radiated power\n",
    "          # Lower R0 worse impulse response, more power\n",
    "          # Higher R0 better impulse response, less power\n",
    "          # Normal range is something like 200-600\n",
    "          # R0 is roughly the observed impedance at resonance (?) need to verify this.\n",
    "\n",
    "# Resistor locations along element, x=0 is the feed point\n",
    "# A standard loading would be h/10 spacing for first half of the antenna\n",
    "# Then h/20 spacing for the next quarter\n",
    "# Then h/40 spacing for the last quarter\n",
    "\n",
    "rpos = np.concatenate((\n",
    "    np.arange(h/20, h/2, h/10),\n",
    "    np.arange(h/2+h/40, 3*h/4, h/20), \n",
    "    np.arange(3*h/4 + h/80, h, h/40),\n",
    "))"
   ]
  },
  {
   "cell_type": "markdown",
   "id": "63f3f0a1-da85-4fbf-b586-3c4ec8699d88",
   "metadata": {},
   "source": [
    "#### Make a plot of resistor locations on the antenna element"
   ]
  },
  {
   "cell_type": "code",
   "execution_count": 254,
   "id": "cdf08420-50d4-4603-b540-6fecfc6cbd8f",
   "metadata": {},
   "outputs": [
    {
     "data": {
      "image/png": "[encoded data removed]",
      "text/plain": [
       "<Figure size 1152x288 with 1 Axes>"
      ]
     },
     "metadata": {
      "needs_background": "light"
     },
     "output_type": "display_data"
    }
   ],
   "source": [
    "# Plot resistor locations\n",
    "plt.figure(figsize=(16, 4))\n",
    "\n",
    "plt.plot([0,h], [1,1],'k') # Draw a line\n",
    "plt.plot(rpos, np.ones_like(rpos), 'k.', markersize=10) # Dots at resistor locations\n",
    "\n",
    "plt.gca().get_yaxis().set_visible(False)\n",
    "plt.xlabel(\"Distance from feed-point (m)\", fontsize=14)\n",
    "plt.title(\"Resistor locations on antenna element\", fontsize=16)\n",
    "\n",
    "plt.show()"
   ]
  },
  {
   "cell_type": "markdown",
   "id": "33c2b95d-f529-4116-b6ab-39a7bc3aa9d5",
   "metadata": {},
   "source": [
    "## Available resistor values\n",
    "A list of the resistor values available for purchase."
   ]
  },
  {
   "cell_type": "code",
   "execution_count": 255,
   "id": "44d28395-a851-4c6d-aaa0-374ca635401a",
   "metadata": {},
   "outputs": [],
   "source": [
    "# Ohmite OD series on Digikey Mar 2 2022\n",
    "cval = [10, 22, 33, 47, 100, 120, 150, 220,\n",
    "        470, 1e3, 2.2e3, 3.3e3, 4.7e3]\n",
    "\n",
    "cval = np.array(cval)"
   ]
  },
  {
   "cell_type": "markdown",
   "id": "e9c58631-a422-4000-9ea0-501556c91b65",
   "metadata": {},
   "source": [
    "## Resistor value calculation\n",
    "To calculate the value for each resistor we need to integrate the equation below over a segment of the antenna centered on each resistor [1]:\n",
    "### $$\\int_{x_0}^{x_1}\\frac{R_0}{h-x}dx = -R_0\\cdot ln(\\frac{h-x_1}{h-x_0})$$  \n",
    "where:  \n",
    "$R_0$ = value chosen by antenna builder (usually 200-800)  \n",
    "$h$ = length of antenna element  \n",
    "$x_0$, $x_1$ = antenna segment boundaries, x=0 is the feed point  <br><br>\n",
    "Calculate segments of antenna approx centered on resistors, integrate over them to find each ideal resistor value"
   ]
  },
  {
   "cell_type": "code",
   "execution_count": 256,
   "id": "88746dab-f497-47ba-a3ed-21fd2fb59a3c",
   "metadata": {},
   "outputs": [],
   "source": [
    "# Calculate antenna segment boundaries centered-ish on resistors\n",
    "segs = [0]\n",
    "for i in range(len(rpos)-1):\n",
    "    segs.append((rpos[i+1]+rpos[i])/2)\n",
    "segs.append(h-0.001) # Having the end of the antenna as a segment boundary gives infinite resistance\n",
    "\n",
    "# Calc ideal resistor values\n",
    "rval = []\n",
    "for i in range(len(segs)-1):\n",
    "    rval.append(-R0*np.log((h-segs[i+1])/(h-segs[i])))"
   ]
  },
  {
   "cell_type": "markdown",
   "id": "3ce88b28-4b4e-48db-8f2d-f44378fca0e0",
   "metadata": {},
   "source": [
    "## Match ideal resistor values to closest available values"
   ]
  },
  {
   "cell_type": "code",
   "execution_count": 257,
   "id": "ce7d059b-3a21-4a25-b4b5-f21daa81b5fd",
   "metadata": {},
   "outputs": [],
   "source": [
    "# Quantize to available resistor values\n",
    "qval = np.zeros_like(rval)\n",
    "for i,r in enumerate(rval):\n",
    "    qval[i] = cval[np.argmin(np.abs(r-cval))]"
   ]
  },
  {
   "cell_type": "markdown",
   "id": "fe83a618-a96c-4f60-94e2-d37a9388c64a",
   "metadata": {},
   "source": [
    "## Generate parts list"
   ]
  },
  {
   "cell_type": "code",
   "execution_count": 258,
   "id": "062d62ab-aa56-45ac-b039-4aaaaba4d8b6",
   "metadata": {},
   "outputs": [
    {
     "name": "stdout",
     "output_type": "stream",
     "text": [
      "qty,ohms\n",
      "6,33\n",
      "10,47\n",
      "1,100\n",
      "1,120\n",
      "1,220\n",
      "1,2200\n"
     ]
    }
   ],
   "source": [
    "# Reduce quantized values to make parts list\n",
    "plist = {}\n",
    "for r in qval:\n",
    "    if(r not in plist.keys()):\n",
    "        plist[r] = 1\n",
    "    else:\n",
    "        plist[r] += 1\n",
    "\n",
    "# Pretty print parts list\n",
    "print(\"qty,ohms\")\n",
    "for r in plist:\n",
    "    print(\"%d,%d\" % (plist[r], r))"
   ]
  },
  {
   "cell_type": "markdown",
   "id": "66685164-ceed-4be3-915e-d0fb9577028a",
   "metadata": {},
   "source": [
    "## Draw antenna diagram"
   ]
  },
  {
   "cell_type": "code",
   "execution_count": 301,
   "id": "234b5edb-acdf-4d24-a7da-959aedb513ce",
   "metadata": {},
   "outputs": [
    {
     "data": {
      "image/png": "[encoded data removed]",
      "text/plain": [
       "<Figure size 612x792 with 2 Axes>"
      ]
     },
     "metadata": {
      "needs_background": "light"
     },
     "output_type": "display_data"
    }
   ],
   "source": [
    "plt.figure(figsize=(8.5, 11)) # fit on printer paper\n",
    "valfont = 8\n",
    "\n",
    "### Resistor values and segment lengths ###\n",
    "plt.subplot(1,2,1)\n",
    "plt.plot([1,1], [0,h],'k') # Draw a line\n",
    "plt.plot(np.ones_like(rpos), rpos, 'k.', markersize=10) # Dots at resistor locations\n",
    "plt.xlim((0.95, 1.05))\n",
    "\n",
    "rpos_ends = np.concatenate(([0], rpos, [h]))\n",
    "for i,r in enumerate(qval):\n",
    "    yres = rpos[i]\n",
    "    plt.annotate(\"%d\" % r, (1.005, yres+h/150), fontsize=valfont)\n",
    "    \n",
    "    yseg = (rpos_ends[i] + rpos_ends[i+1])/2\n",
    "    l = np.diff(rpos_ends)[i]\n",
    "    plt.annotate(\"%.2f\" % l, (0.9875, yseg+h/150), fontsize=valfont)\n",
    "\n",
    "plt.annotate(\"%.2f\" % (h-rpos[-1]), (0.9875, h/150 + (rpos[-1]+h)/2), fontsize=valfont)\n",
    "\n",
    "plt.annotate(\"Feed point\", (.985, -h/50), fontsize=14)\n",
    "plt.annotate(\"Segment length (m)\", (0.96, h/2), rotation=90, fontsize=14)\n",
    "plt.annotate(\"Resistor value ($\\Omega$)\", (1.035, h/2), rotation=90, fontsize=14)\n",
    "\n",
    "#plt.axis(\"off\") # Turn off axes\n",
    "plt.gca().get_yaxis().set_visible(False)\n",
    "plt.gca().get_xaxis().set_visible(False)\n",
    "plt.gca().invert_yaxis() # Feed point at top\n",
    "\n",
    "### Resistor values and positions ###\n",
    "plt.subplot(1,2,2)\n",
    "plt.plot([1,1], [0,h],'k') # Draw a line\n",
    "plt.plot(np.ones_like(rpos), rpos, 'k.', markersize=10) # Dots at resistor locations\n",
    "plt.xlim((0.95, 1.05))\n",
    "\n",
    "for i,r in enumerate(qval):\n",
    "    x = rpos[i]\n",
    "    plt.annotate(\"%d\" % r, (1.005, x+h/150), fontsize=valfont)\n",
    "    plt.annotate(\"%.2f\" % x, (0.985, x+h/150), fontsize=valfont)\n",
    "\n",
    "plt.annotate(\"Feed point\", (.985, -h/50), fontsize=14)\n",
    "plt.annotate(\"Resistor position (m)\", (0.96, h/2), rotation=90, fontsize=14)\n",
    "plt.annotate(\"Resistor value ($\\Omega$)\", (1.035, h/2), rotation=90, fontsize=14)\n",
    "\n",
    "#plt.axis(\"off\") # Turn off axes\n",
    "plt.gca().get_yaxis().set_visible(False)\n",
    "plt.gca().get_xaxis().set_visible(False)\n",
    "plt.gca().invert_yaxis() # Feed point at top\n",
    "\n",
    "## Save it? ##\n",
    "plt.savefig(\"%dm_%dr0.pdf\" % (h, R0), dpi=200)\n",
    "\n",
    "plt.show()"
   ]
  },
  {
   "cell_type": "markdown",
   "id": "af6ffb84-d1f3-4bc5-bf30-8d778a83d7a4",
   "metadata": {},
   "source": [
    "## Reference\n",
    "[1] Jones, F., Narod, B., & Clarke, G. (1989). Design and Operation of a Portable, Digital Impulse Radar. Journal of Glaciology, 35(119), 143-148. doi:10.3189/002214389793701383  "
   ]
  }
 ],
 "metadata": {
  "kernelspec": {
   "display_name": "Python 3",
   "language": "python",
   "name": "python3"
  },
  "language_info": {
   "codemirror_mode": {
    "name": "ipython",
    "version": 3
   },
   "file_extension": ".py",
   "mimetype": "text/x-python",
   "name": "python",
   "nbconvert_exporter": "python",
   "pygments_lexer": "ipython3",
   "version": "3.7.6"
  }
 },
 "nbformat": 4,
 "nbformat_minor": 5
}
